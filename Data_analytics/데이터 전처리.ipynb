{
 "cells": [
  {
   "cell_type": "markdown",
   "metadata": {},
   "source": [
    "# 데이터 전처리\n",
    "\n",
    "## 전처리 과정\n",
    "\n",
    "\n",
    "## Data Cleaning\n",
    "- 불완전한 데이터(아무것도 없는 값) -> 결측값 처리시행\n",
    "    - NULL, NA\n",
    "- 잡음 데이터\n",
    "    - `-`가 섞여 있는 경우\n",
    "- 모순된 데이터(정합성 없는 경우)\n",
    "    - 남성의 주민번호가 2로 시작하는 경우(단독 데이터 오류)\n",
    "    - 레코드 데이터 오류\n",
    "    \n"
   ]
  },
  {
   "cell_type": "markdown",
   "metadata": {},
   "source": [
    "### 결측값 처리\n",
    "\n",
    "1. 해당 튜플을 무시\n",
    "2. 전역 상수를 사용하여 결측값 fill\n",
    "3. 속성의 평균값 사용\n",
    "4. 주어진 튜플과 같은 분류에 속하는 튜플들의 속성 평균값 사용\n",
    "5. 통계적 방식을 사용한 가장 높은 가능성 값을 넣기\n"
   ]
  },
  {
   "cell_type": "code",
   "execution_count": 14,
   "metadata": {},
   "outputs": [
    {
     "name": "stdout",
     "output_type": "stream",
     "text": [
      "200\n"
     ]
    }
   ],
   "source": [
    "import pandas as pd\n",
    "raw = pd.read_csv('./data/기업정보.csv',encoding='cp949',engine='python')\n",
    "print(len(raw))"
   ]
  },
  {
   "cell_type": "markdown",
   "metadata": {},
   "source": [
    "- 1. 해당 튜플을 무시하는 방법"
   ]
  },
  {
   "cell_type": "code",
   "execution_count": 30,
   "metadata": {},
   "outputs": [
    {
     "name": "stdout",
     "output_type": "stream",
     "text": [
      "153\n",
      "               NameEng    종목코드 ShareType     유동비율    PER  배당수익률    ROE   PBR  \\\n",
      "0  SAMSUNG ELECTRONICS  5930.0    Common  2.35968   6.58   2.95  23.66  1.35   \n",
      "1         SK HYNIX INC   660.0    Common  1.76970   3.84   1.51  49.15  1.47   \n",
      "2     HYUNDAI MOTOR CO  5380.0    Common  1.55266  10.56   3.45   3.90  0.45   \n",
      "\n",
      "    시가총액_달러   통화  \n",
      "0  269637.7  KRW  \n",
      "1   46897.7  KRW  \n",
      "2   27764.5  KRW  \n",
      "               NameEng    종목코드 ShareType     유동비율    PER  배당수익률    ROE   PBR  \\\n",
      "0  SAMSUNG ELECTRONICS  5930.0    Common  2.35968   6.58   2.95  23.66  1.35   \n",
      "1         SK HYNIX INC   660.0    Common  1.76970   3.84   1.51  49.15  1.47   \n",
      "2     HYUNDAI MOTOR CO  5380.0    Common  1.55266  10.56   3.45   3.90  0.45   \n",
      "\n",
      "    시가총액_달러   통화  \n",
      "0  269637.7  KRW  \n",
      "1   46897.7  KRW  \n",
      "2   27764.5  KRW  \n",
      "               NameEng    종목코드 ShareType     유동비율    PER  배당수익률    ROE   PBR  \\\n",
      "0  SAMSUNG ELECTRONICS  5930.0    Common  2.35968   6.58   2.95  23.66  1.35   \n",
      "1         SK HYNIX INC   660.0    Common  1.76970   3.84   1.51  49.15  1.47   \n",
      "2     HYUNDAI MOTOR CO  5380.0    Common  1.55266  10.56   3.45   3.90  0.45   \n",
      "\n",
      "    시가총액_달러   통화  \n",
      "0  269637.7  KRW  \n",
      "1   46897.7  KRW  \n",
      "2   27764.5  KRW  \n"
     ]
    }
   ],
   "source": [
    "# 튜플에 데이터가 하나라도 없으면 제거\n",
    "drop_missing_data = raw.dropna()\n",
    "print(len(drop_missing_data))\n",
    "\n",
    "# 모든 데이터가 NaN일 때 제거\n",
    "drop_all_missing_data =raw.dropna(how='all')\n",
    "\n",
    "# column을 기준으로 NaNn 값이 4개 이상이면, 해당 column 제거\n",
    "drop_4_col_missing_data = raw.dropna(axis=1,thresh=3)\n",
    "# print(len(drop_4_col_missing_data))\n",
    "\n",
    "# row를 기준으로 Nan 값이 4개 이상이면, 해당 row를 제거\n",
    "drop_4_row_missing_data = raw.dropna(axis=0,thresh=3)\n",
    "# print(len(drop_4_row_missing_data))\n",
    "\n",
    "print(drop_all_missing_data[:3])\n",
    "print(drop_4_col_missing_data[:3])\n",
    "print(drop_4_row_missing_data[:3])"
   ]
  },
  {
   "cell_type": "code",
   "execution_count": null,
   "metadata": {},
   "outputs": [],
   "source": []
  },
  {
   "cell_type": "markdown",
   "metadata": {},
   "source": [
    "- 2. 결측값을 0으로 채워넣기"
   ]
  },
  {
   "cell_type": "code",
   "execution_count": 17,
   "metadata": {},
   "outputs": [
    {
     "name": "stdout",
     "output_type": "stream",
     "text": [
      "200\n"
     ]
    }
   ],
   "source": [
    "fill_zero_data = raw.fillna(0)\n",
    "print(len(fill_zero_data))"
   ]
  },
  {
   "cell_type": "markdown",
   "metadata": {},
   "source": [
    "- 3. 속성의 평균값을 사용하기"
   ]
  },
  {
   "cell_type": "code",
   "execution_count": 18,
   "metadata": {},
   "outputs": [
    {
     "name": "stdout",
     "output_type": "stream",
     "text": [
      "종목코드       54349.696970\n",
      "유동비율           2.313400\n",
      "PER            9.806000\n",
      "배당수익률          1.708641\n",
      "ROE            4.908927\n",
      "PBR            3.712000\n",
      "시가총액_달러     6015.723000\n",
      "dtype: float64\n"
     ]
    }
   ],
   "source": [
    "mean = raw.mean()\n",
    "fill_mean_data = raw.fillna(mean)\n",
    "print(mean)"
   ]
  },
  {
   "cell_type": "markdown",
   "metadata": {},
   "source": [
    "- 4. 통계적 회귀분석 결측값 채우기\n",
    "    - `ROE`, `PER`, `배당수익률`중 결측값 튜플을 제거한다. \n",
    "    - 예시에서는 `유동비율`이 비어있으면서, 위의 값들이 존재하는 튜플들을 수정한다."
   ]
  },
  {
   "cell_type": "code",
   "execution_count": 168,
   "metadata": {},
   "outputs": [
    {
     "ename": "TypeError",
     "evalue": "'numpy.ndarray' object is not callable",
     "output_type": "error",
     "traceback": [
      "\u001b[0;31m---------------------------------------------------------------------------\u001b[0m",
      "\u001b[0;31mTypeError\u001b[0m                                 Traceback (most recent call last)",
      "\u001b[0;32m<ipython-input-168-e190f31d8f2e>\u001b[0m in \u001b[0;36m<module>\u001b[0;34m\u001b[0m\n\u001b[1;32m     11\u001b[0m \u001b[0;31m# np.isnan(raw[y])& ~np.isnan(raw[x[0]])\u001b[0m\u001b[0;34m\u001b[0m\u001b[0;34m\u001b[0m\u001b[0m\n\u001b[1;32m     12\u001b[0m \u001b[0mmatch_data\u001b[0m \u001b[0;34m=\u001b[0m \u001b[0mraw\u001b[0m\u001b[0;34m[\u001b[0m\u001b[0mraw\u001b[0m\u001b[0;34m[\u001b[0m\u001b[0my\u001b[0m\u001b[0;34m]\u001b[0m\u001b[0;34m.\u001b[0m\u001b[0misnull\u001b[0m\u001b[0;34m(\u001b[0m\u001b[0;34m)\u001b[0m \u001b[0;34m&\u001b[0m \u001b[0mraw\u001b[0m\u001b[0;34m[\u001b[0m\u001b[0mx\u001b[0m\u001b[0;34m[\u001b[0m\u001b[0;36m0\u001b[0m\u001b[0;34m]\u001b[0m\u001b[0;34m]\u001b[0m\u001b[0;34m.\u001b[0m\u001b[0mnotnull\u001b[0m\u001b[0;34m(\u001b[0m\u001b[0;34m)\u001b[0m \u001b[0;34m&\u001b[0m \u001b[0mraw\u001b[0m\u001b[0;34m[\u001b[0m\u001b[0mx\u001b[0m\u001b[0;34m[\u001b[0m\u001b[0;36m1\u001b[0m\u001b[0;34m]\u001b[0m\u001b[0;34m]\u001b[0m\u001b[0;34m.\u001b[0m\u001b[0mnotnull\u001b[0m\u001b[0;34m(\u001b[0m\u001b[0;34m)\u001b[0m \u001b[0;34m&\u001b[0m \u001b[0mraw\u001b[0m\u001b[0;34m[\u001b[0m\u001b[0mx\u001b[0m\u001b[0;34m[\u001b[0m\u001b[0;36m2\u001b[0m\u001b[0;34m]\u001b[0m\u001b[0;34m]\u001b[0m\u001b[0;34m.\u001b[0m\u001b[0mnotnull\u001b[0m\u001b[0;34m(\u001b[0m\u001b[0;34m)\u001b[0m\u001b[0;34m]\u001b[0m\u001b[0;34m\u001b[0m\u001b[0m\n\u001b[0;32m---> 13\u001b[0;31m \u001b[0mmatch_data\u001b[0m\u001b[0;34m.\u001b[0m\u001b[0mvalues\u001b[0m\u001b[0;34m(\u001b[0m\u001b[0;34m)\u001b[0m\u001b[0;34m\u001b[0m\u001b[0m\n\u001b[0m\u001b[1;32m     14\u001b[0m \u001b[0;31m# for md in match_data.values():\u001b[0m\u001b[0;34m\u001b[0m\u001b[0;34m\u001b[0m\u001b[0m\n\u001b[1;32m     15\u001b[0m \u001b[0;31m#     model.predict(md[x])\u001b[0m\u001b[0;34m\u001b[0m\u001b[0;34m\u001b[0m\u001b[0m\n",
      "\u001b[0;31mTypeError\u001b[0m: 'numpy.ndarray' object is not callable"
     ]
    }
   ],
   "source": [
    "from sklearn import linear_model\n",
    "import numpy as np\n",
    "y = '유동비율'\n",
    "x = ['ROE','PER','배당수익률']\n",
    "y_data = drop_missing_data[y]\n",
    "x_data = drop_missing_data[x]\n",
    "lm = linear_model.LinearRegression()\n",
    "model = lm.fit(x_data,y_data)\n",
    "# 유동비율이 비어있으면서, ROE, PER, 배당수익률은 존재하는 튜플을 가져온다.\n",
    "\n",
    "# np.isnan(raw[y])& ~np.isnan(raw[x[0]])\n",
    "match_data = raw[raw[y].isnull() & raw[x[0]].notnull() & raw[x[1]].notnull() & raw[x[2]].notnull()]\n",
    "\n",
    "# for md in match_data.values():\n",
    "#     model.predict(md[x])\n",
    "#     print(md)\n",
    "\n",
    "\n",
    "\n",
    "# match_data_idx = raw[raw[y].isnull()][raw[x[0]].notnull()][raw[x[1]].notnull()][raw[x[2]].notnull()].index\n",
    "# for idx in match_data_idx:\n",
    "#     fill_linear_data.loc[idx,y] = model.predict([x])\n",
    "    \n",
    "# model.predict()\n",
    "    \n",
    "# print(model.predict(raw[match_data][x]))"
   ]
  }
 ],
 "metadata": {
  "kernelspec": {
   "display_name": "keras",
   "language": "python",
   "name": "keras"
  },
  "language_info": {
   "codemirror_mode": {
    "name": "ipython",
    "version": 3
   },
   "file_extension": ".py",
   "mimetype": "text/x-python",
   "name": "python",
   "nbconvert_exporter": "python",
   "pygments_lexer": "ipython3",
   "version": "3.6.6"
  }
 },
 "nbformat": 4,
 "nbformat_minor": 2
}
